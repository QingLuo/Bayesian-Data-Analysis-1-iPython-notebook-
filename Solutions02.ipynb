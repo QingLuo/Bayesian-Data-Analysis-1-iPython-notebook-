{
 "metadata": {
  "name": "",
  "signature": "sha256:cebfb5e941b63ee10be1ad27d410e4a754bc0a9e0dca5c383eae73b1b3f73351"
 },
 "nbformat": 3,
 "nbformat_minor": 0,
 "worksheets": [
  {
   "cells": [
    {
     "cell_type": "markdown",
     "metadata": {},
     "source": [
      "# Assignment 02 Solutions\n",
      "\n",
      "**Due:** 2015-02-26, 11:59 PM, as an IPython notebook submitted via your repo in the course GitHub organization.  Edit the provided Solution02 notebook with your solutions, placing your solution in cells following each subproblem cell.  All subproblems are worth 1 point unless otherwise noted."
     ]
    },
    {
     "cell_type": "markdown",
     "metadata": {},
     "source": [
      "### Problem 1.1 (1/2 point):\n",
      "\n",
      "> *How many possible binary logical operations are there?*  Don't just report a number; briefly explain your reasoning."
     ]
    },
    {
     "cell_type": "markdown",
     "metadata": {},
     "source": [
      "### Answer 1.1\n",
      "\n",
      "> There are $2^4 = 16$ possible binary logical operations. Because there are 2 possible outcomes(either 0 or 1) of each of the 4 pairs of A and B(A and B can be either 0 or 1), so the number of total operations are $2^4 = 16$.\n"
     ]
    },
    {
     "cell_type": "markdown",
     "metadata": {},
     "source": [
      "### Problem 1.2 (1/2 point):\n",
      "\n",
      "An important result in propositional logic is that **all** possible logical operations can be expressed in terms of **NOT**, **AND**, and **OR**; one says this set of operations is *functionally complete*.  In particular, whatever your answer was for Problem 1.1, all of those binary operations can be expressed as some combination of **NOT**, **AND**, and **OR**.  This is important for probability theory, which is built on expressions for probabilities for these three operations on propositions.\n",
      "\n",
      "> *Express **XOR** in terms of **NOT**, **AND**, and **OR** (you may not need all of them).*\n",
      "\n",
      "> Present your result as a truth table similar to this:\n",
      "\n",
      "| $A$ | $B$ |   | OP1 | OP2 | ... |   | **Answer** |\n",
      "|:---:|:---:|---|:---:|:---:|:---:|---|:----------:|\n",
      "| 0   | 0   |   | ?   | ?   |     |   | 0          |\n",
      "| 0   | 1   |   | ?   | ?   |     |   | 1          |\n",
      "| 1   | 0   |   | ?   | ?   |     |   | 1          |\n",
      "| 1   | 1   |   | ?   | ?   |     |   | 0          |\n",
      "\n",
      "> Replace **OP1**, etc., with whatever operations you are composing to construct **XOR** (i.e., showing the ingredients comprising your expression), and replace **Answer** with your final expression (e.g., something like $(A\\land B)\\lor (\\overline{A\\lor B}) \\land B$, but not exactly that!).\n",
      "\n",
      "[To quickly create nice Markdown markup for the tables above, I used the [Markdown TablesGenerator](http://www.tablesgenerator.com/markdown_tables) that we used in Lab.  Feel free to use it to help with your solutions.]"
     ]
    },
    {
     "cell_type": "markdown",
     "metadata": {},
     "source": [
      "### Answer 1.2\n",
      "\n",
      "| A | B | $\\overline{A}$ | $\\overline{A} \\land B$ | $\\overline{B}$ | $\\overline{B} \\land A$ | $(\\overline{A} \\land B) \\lor (\\overline{B} \\land A)$ |\n",
      "|---|---|----------------|------------------------|----------------|------------------------|------------------------------------------------------|\n",
      "| 0 | 0 | 1              | 0                      | 1              | 0                      | 0                                                    |\n",
      "| 0 | 1 | 0              | 0                      | 1              | 1                      | 1                                                    |\n",
      "| 1 | 0 | 1              | 1                      | 0              | 0                      | 1                                                    |\n",
      "| 1 | 1 | 0              | 0                      | 0              | 0                      | 0                                                    |"
     ]
    },
    {
     "cell_type": "markdown",
     "metadata": {},
     "source": [
      "### Problem 1.3:\n",
      "\n",
      "There are other small sets of functionally complete operations.  In fact, all possible logical operations can be expressed in terms of a **single** binary operator, which may be taken to be either **NAND** (\"*NOT* *AND*\" or \"not both,\" i.e., $\\overline{A\\land B}$) or **NOR** (\"*NOT* *OR*,\" i.e., $\\overline{A\\lor B}$, \"neither $A$ nor $B$\"), as defined in the following truth table:\n",
      "\n",
      "| $A$ | $B$ |   | $A$ NAND $B$ | $A$ NOR $B$ |\n",
      "|:---:|:---:|---|:------------:|:-----------:|\n",
      "| 0   | 0   |   | 1            | 1           |\n",
      "| 0   | 1   |   | 1            | 0           |\n",
      "| 1   | 0   |   | 1            | 0           |\n",
      "| 1   | 1   |   | 0            | 0           |\n",
      "\n",
      "> *Pick one of these operators, and express $\\overline{A}$, $A\\land B$, and $A\\lor B$ in terms of it.*  You need only present three expressions (use MathJax LaTeX); no truth tables are necessary."
     ]
    },
    {
     "cell_type": "markdown",
     "metadata": {},
     "source": [
      "### Answer 1.3\n",
      "$\\overline{A} = \\overline{A \\land A} = \\overline{A \\lor A} = A $ **NAND** $ A = A $ **NOR** $ A $  \n",
      "$A \\land B = \\overline{(\\overline{A \\lor B}) \\lor (\\overline{A \\land B})} = (A$ **NOR** $B)$ **NOR** $ (A$ **NAND** $B)$  \n",
      "$A \\lor B = \\overline{(\\overline{A \\lor B}) \\land (\\overline{A \\land B})} = (A$ **NOR** $B)$ **NAND** $ (A$ **NAND** $B)$\n",
      "\n",
      "\n"
     ]
    },
    {
     "cell_type": "markdown",
     "metadata": {},
     "source": [
      "### Problem 1.4:\n",
      "\n",
      "Digital computers are essentially propositional logic computing devices, built using \"logic gate\" circuit elements that implement basic logic (and memory) functions.  A key component of a CPU chip in a computer is an *arithmetic logic unit* (ALU) that performs arithmetic and bitwise logic operations on bytes and larger groups of binary digits (bits).  The ALU is built from simple gates that implement desired operations via truth table representations.  For example, the addition of the lowermost bits, $A$ and $B$, of two numbers can be expressed by the following truth table:\n",
      "\n",
      "| $A$ | $B$ |   | Sum | Carry |\n",
      "|:---:|:---:|---|:---:|:-----:|\n",
      "| 0   | 0   |   | 0   | 0     |\n",
      "| 0   | 1   |   | 1   | 0     |\n",
      "| 1   | 0   |   | 1   | 0     |\n",
      "| 1   | 1   |   | 0   | 1     |\n",
      "\n",
      "Here **Sum** denotes the first (lowermost) binary digit of the sum of $A$ and $B$, and **Carry** denotes a carry bit, indicating that $1+1=2$, or 10 in binary (the carry bit will affect the outcome of adding the next highest bits of the numbers being processed by the ALU).  Two logic functions implementing this table comprise a *half adder* (a *full adder* is a trinary operation that handles an additional carry bit input).\n",
      "\n",
      "> *Express the Sum and Carry operations in terms of **NOT**, **AND**, and **OR**.*  Show the intermediate operations in a truth table, along the lines of Problem 1.2."
     ]
    },
    {
     "cell_type": "markdown",
     "metadata": {},
     "source": [
      "| A | B | $\\overline{A}$ | $\\overline{A} \\land B$ | $\\overline{B}$ | $\\overline{B} \\land A$ | Sum = $(\\overline{A} \\land B) \\lor (\\overline{B} \\land A)$ | Carry=$A \\land B$ |\n",
      "|---|---|----------------|------------------------|----------------|------------------------|------------------------------------------------------------|-------------------|\n",
      "| 0 | 0 | 1              | 0                      | 1              | 0                      | 0                                                          | 0                 |\n",
      "| 0 | 1 | 0              | 0                      | 1              | 1                      | 1                                                          | 0                 |\n",
      "| 1 | 0 | 1              | 1                      | 0              | 0                      | 1                                                          | 0                 |\n",
      "| 1 | 1 | 0              | 0                      | 0              | 0                      | 0                                                          | 1                 |"
     ]
    },
    {
     "cell_type": "markdown",
     "metadata": {},
     "source": [
      "### Problem 2.1:\n",
      "\n",
      "> *Using Bayes's theorem, answer the question posed in the Kahneman/Tversky exercise quoted above, verifying that the typical answer is incorrect.*\n",
      "> * Specify the hypothesis space.\n",
      "> * Specify the data proposition.\n",
      "> * Calculate the posterior probabilities for the hypotheses, presenting a table that shows the prior, likelihood, prior$\\times$likelihood, and posterior probabilities for the hypotheses."
     ]
    },
    {
     "cell_type": "markdown",
     "metadata": {},
     "source": [
      "### Answer 2.1\n",
      "**Hypothesis space:  **  \n",
      "$H_{0}$ = The car is blue.  \n",
      "$H_{1}$ = The car is green. \n",
      "  \n",
      "**Data proposition  **  \n",
      "$D_{obs}$ = Witnessed the car is blue with 80% right and 20% wrong  \n",
      "  \n",
      "**Posterior Probability**  \n",
      "\n",
      "posterior \u221d prior \u00d7 likelihood  \n",
      "###$P(H_{0}|D_{obs},I) = P(H_{0}|I) \\times \\frac{P(D_{obs}|H_{0},I)}{P(D_{obs})} = 15\\%\\times\\frac{80\\%}{15\\%\\times80\\%+85\\%\\times20\\%} = 0.418$  \n",
      "###$P(H_{1}|D_{obs},I) = P(H_{1}|I) \\times \\frac{P(D_{obs}|H_{1},I)}{P(D_{obs})} = 85\\%\\times\\frac{20\\%}{15\\%\\times80\\%+85\\%\\times20\\%} = 0.59$    \n",
      "| Posterior            | Prior            | Likelihood                              |\n",
      "|----------------------|------------------|-----------------------------------------|\n",
      "| $P(H_{0}|D_{obs},I)$ | $P(H_{0}|I)$     | $\\frac{P(D_{obs}|H_{0},I)}{P(D_{obs})}$ |\n",
      "| $P(H_{1}|D_{obs},I)$ | $P(H_{0}|I)$     | $\\frac{P(D_{obs}|H_{1},I)}{P(D_{obs})}$ |\n",
      "\n"
     ]
    },
    {
     "cell_type": "markdown",
     "metadata": {},
     "source": [
      "### Problem 2.2:\n",
      "\n",
      "> Briefly explain what you think the heuristic is that most people used to justify their conclusion.  Criticize it in light of the result of the calculation in Problem 2.1."
     ]
    },
    {
     "cell_type": "markdown",
     "metadata": {},
     "source": [
      "### Answer 2.2\n",
      "They might think the witness has 80% probability to correctly tell the car is blue. However, they should have considered the probability that the car might be green and the witness failed to recognize it."
     ]
    },
    {
     "cell_type": "markdown",
     "metadata": {},
     "source": [
      "### Problem 3.1:\n",
      "\n",
      "> *Derive the formula given in lecture for the expectation value of $x$, denoted $\\Bbb{E}(x)$ or $\\langle x\\rangle$, in terms of $a$ and $b$, where*\n",
      "$$\n",
      "\\Bbb{E}(x) = \\int dx\\; x \\times {\\rm Beta}(x|a,b).\n",
      "$$\n",
      "\n",
      "Present your derivation in the IPython notebook using MathJax LaTeX notation for the math (make sure to also use text to briefly explain your reasoning). "
     ]
    },
    {
     "cell_type": "markdown",
     "metadata": {},
     "source": [
      "### Answer 3.1\n",
      "**E(x)**  \n",
      "  \n",
      "$= \\int xf(x)dx$    \n",
      "  \n",
      "###$= \\int_{0}^{1} x\\frac{x^{a-1}(1-x)^{b-1}}{B(a,b)} dx$  \n",
      "  \n",
      "###$= \\frac{1}{B(a,b)}\\int_{0}^{1} x^{a}(1-x)^{b-1} dx$  \n",
      "  \n",
      "###$= \\frac{1}{B(a,b)}B(a+1,b)\\hspace{35pt}$ (The integral representation of Beta function)  \n",
      "  \n",
      "###$= \\frac{\\Gamma(a+b)}{\\Gamma(a)\\Gamma(b)}\\frac{\\Gamma(a+1)\\Gamma(b)}{\\Gamma(a+b+1)}\\hspace{55pt}$  (The definition of Beta function)\n",
      "  \n",
      "###$= \\frac{a}{a+b}\\hspace{75pt}$   ( $\\Gamma(a+1)= a\\Gamma(a)$ )"
     ]
    },
    {
     "cell_type": "markdown",
     "metadata": {},
     "source": [
      "### Problem 3.2:\n",
      "\n",
      "> *Derive the formula given in lecture for the mode of the beta distribution, $\\hat x$, in terms of $a$ and $b$.  (The mode is the value of $x$ with maximum probability density).*\n"
     ]
    },
    {
     "cell_type": "markdown",
     "metadata": {},
     "source": [
      "### Answer 3.2\n",
      "\n",
      "Because the mode is the value with maximum density, take the derivative of the density function and set it to 0, then we figure out that \"x\" which is exactly the mode.   \n",
      "  \n",
      "##$f(x) = \\frac{x^{a-1}(1-x)^{b-1}}{B(a,b)}$  \n",
      "  \n",
      "##$\\frac{df(x)}{dx}$ \n",
      "###$= \\frac{1}{B(a,b)}[(a-1)x^{a-2}(1-x)^{b-1}-(b-1)x^{a-1}(1-x)^{b-2}]$  \n",
      "  \n",
      "###$= \\frac{1}{B(a,b)}(x^{a-2}(1-x)^{b-2})[(a-1)(1-x)-(b-1)x] = $ **0**  \n",
      "  \n",
      "So,   \n",
      "$(a-1)(1-x)-(b-1)x = 0\\hspace{15pt}$   \n",
      "  \n",
      "$\\Rightarrow$   \n",
      "##$\\hat x = \\frac{a-1}{a+b-2}$\n",
      "\n",
      "\n"
     ]
    },
    {
     "cell_type": "markdown",
     "metadata": {},
     "source": [
      "### Problem 4.1:\n",
      "\n",
      "> Calculate and plot the posterior PDF using the analytic formula from lecture:\n",
      "> * Use the scipy.stats.norm distribution object to generate a single sample of $N$ observations, $d_i$, following the model in the lecture.  Pick your own \"true\" values of the parameters $\\mu$ and $\\sigma$ for the observations.\n",
      "> * Pick a prior mean, $\\mu_0$, and standard deviation, $w_0$, defining a normal prior.  Plot the posterior PDF for $\\mu$ using the formula presented in class for the conjugate posterior (the formula with the quantity $B$ specifying how much the posterior shrinks toward the prior).  Use the numpy `linspace` function to make an array of $\\mu$ values over which you'll evaluate the PDF.  You may use either the scipy.stats `norm` object, or explicit calculation (with `exp`, etc.), to evaluate the PDF.  Use a thick solid curve for the plot (say, with lw=2 or 3 in the matplotlib `plot` function)."
     ]
    },
    {
     "cell_type": "markdown",
     "metadata": {},
     "source": [
      "### Problem 4.2:\n",
      "\n",
      "> Now explicitly calculate and plot the posterior PDF from the prior and likelihood: \n",
      "* Use the same grid of $\\mu$ values used for Problem 4.1.\n",
      "*Evaluate the normal prior and the likelihood function on the grid.\n",
      "* Calculate the prior $\\times$ likelihood, and normalize it using the trapezoid rule (code the trapezoid rule explicitly; don't use `numpy.trapz`).\n",
      "* Plot the resulting normalized PDF on the same axes as Problem 4.1.  Use a dashed line style (and optionally transparency, via the `alpha` argument to `plot`) so that both curves are visible (they should overlap!)."
     ]
    },
    {
     "cell_type": "markdown",
     "metadata": {},
     "source": [
      "### Problem 4.3:\n",
      "\n",
      "> Create test cases that verify elements of your computation:\n",
      "* Create a case that checks whether your trapezoid rule integration matches the result given by `numpy.trapz`.\n",
      "* Create a case that checks whether the two posterior PDFs match over the grid of $\\mu$ values.\n",
      "* Include a `nosetests` run in your notebook that verifies the tests pass."
     ]
    },
    {
     "cell_type": "code",
     "collapsed": false,
     "input": [
      "%matplotlib inline \n",
      "%run HW2Bayesian.py\n",
      "%run MachineFailure.py\n",
      "!nosetests HW2Bayesian.py"
     ],
     "language": "python",
     "metadata": {},
     "outputs": [
      {
       "metadata": {},
       "output_type": "display_data",
       "png": "[encoded data removed]",
       "text": [
        "<matplotlib.figure.Figure at 0x10791a990>"
       ]
      },
      {
       "metadata": {},
       "output_type": "display_data",
       "png": "[encoded data removed]",
       "text": [
        "<matplotlib.figure.Figure at 0x107b529d0>"
       ]
      },
      {
       "output_type": "stream",
       "stream": "stdout",
       "text": [
        "D&S ex. 2.3.9, failure mode probability: 0.959976160192\n",
        "\n",
        "Lec05 example, 1 defect in 10: 0.182478401518\n",
        "Update to 1 in 50: 0.0049075896306\n",
        "All at once: 0.0049075896306\n"
       ]
      },
      {
       "output_type": "stream",
       "stream": "stdout",
       "text": [
        "..\r\n",
        "----------------------------------------------------------------------\r\n",
        "Ran 2 tests in 0.001s\r\n",
        "\r\n",
        "OK\r\n"
       ]
      }
     ],
     "prompt_number": 4
    }
   ],
   "metadata": {}
  }
 ]
}